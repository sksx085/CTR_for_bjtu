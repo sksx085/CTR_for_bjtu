{
 "cells": [
  {
   "cell_type": "code",
   "execution_count": 48,
   "metadata": {},
   "outputs": [],
   "source": [
    "import xgboost as xgb\n",
    "from sklearn.datasets import load_iris\n",
    "\n",
    "# 加载鸢尾花数据集\n",
    "iris = load_iris()\n",
    "\n",
    "# 获取特征和目标变量\n",
    "X = iris.data  # 特征\n",
    "y = iris.target  # 目标变量\n",
    "dtrain = xgb.DMatrix(X, label=y)"
   ]
  },
  {
   "cell_type": "code",
   "execution_count": 49,
   "metadata": {},
   "outputs": [
    {
     "name": "stdout",
     "output_type": "stream",
     "text": [
      "[0]\ttrain-rmse:0.68591\n",
      "[1]\ttrain-rmse:0.49409\n",
      "[2]\ttrain-rmse:0.35719\n",
      "[3]\ttrain-rmse:0.26215\n"
     ]
    },
    {
     "name": "stdout",
     "output_type": "stream",
     "text": [
      "[4]\ttrain-rmse:0.19432\n",
      "[5]\ttrain-rmse:0.14798\n",
      "[6]\ttrain-rmse:0.11057\n",
      "[7]\ttrain-rmse:0.08397\n",
      "[8]\ttrain-rmse:0.06466\n",
      "[9]\ttrain-rmse:0.05065\n"
     ]
    }
   ],
   "source": [
    "params = {'tree_method': 'gpu_hist'}\n",
    "\n",
    "# 训练模型\n",
    "model = xgb.train(params, dtrain, num_boost_round=10, evals=[(dtrain, 'train')])"
   ]
  },
  {
   "cell_type": "code",
   "execution_count": 50,
   "metadata": {},
   "outputs": [
    {
     "name": "stdout",
     "output_type": "stream",
     "text": [
      "XGBoost is not using GPU.\n"
     ]
    }
   ],
   "source": [
    "dump = model.get_dump(with_stats=True)\n",
    "tree_method = [t for t in dump if 'tree_method' in t]\n",
    "\n",
    "gpu_used = any('gpu_hist' in t for t in tree_method)\n",
    "if gpu_used:\n",
    "    print(\"XGBoost is using GPU!\")\n",
    "else:\n",
    "    print(\"XGBoost is not using GPU.\")"
   ]
  }
 ],
 "metadata": {
  "kernelspec": {
   "display_name": "base",
   "language": "python",
   "name": "python3"
  },
  "language_info": {
   "codemirror_mode": {
    "name": "ipython",
    "version": 3
   },
   "file_extension": ".py",
   "mimetype": "text/x-python",
   "name": "python",
   "nbconvert_exporter": "python",
   "pygments_lexer": "ipython3",
   "version": "3.11.6"
  }
 },
 "nbformat": 4,
 "nbformat_minor": 2
}
